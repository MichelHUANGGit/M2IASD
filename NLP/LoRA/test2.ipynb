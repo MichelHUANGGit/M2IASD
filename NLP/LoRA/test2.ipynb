{
 "cells": [
  {
   "cell_type": "code",
   "execution_count": 1,
   "metadata": {},
   "outputs": [],
   "source": [
    "import torch\n",
    "import torch.nn as nn\n",
    "import torch.nn.functional as F\n",
    "from LoRA import LoRA_Linear\n",
    "from transformers import DistilBertTokenizer, DistilBertModel"
   ]
  },
  {
   "cell_type": "markdown",
   "metadata": {},
   "source": [
    "**Load pretrained model**"
   ]
  },
  {
   "cell_type": "code",
   "execution_count": 2,
   "metadata": {},
   "outputs": [],
   "source": [
    "bert = DistilBertModel.from_pretrained(\"distilbert-base-uncased\")"
   ]
  },
  {
   "cell_type": "code",
   "execution_count": 3,
   "metadata": {},
   "outputs": [
    {
     "data": {
      "text/plain": [
       "DistilBertModel(\n",
       "  (embeddings): Embeddings(\n",
       "    (word_embeddings): Embedding(30522, 768, padding_idx=0)\n",
       "    (position_embeddings): Embedding(512, 768)\n",
       "    (LayerNorm): LayerNorm((768,), eps=1e-12, elementwise_affine=True)\n",
       "    (dropout): Dropout(p=0.1, inplace=False)\n",
       "  )\n",
       "  (transformer): Transformer(\n",
       "    (layer): ModuleList(\n",
       "      (0-5): 6 x TransformerBlock(\n",
       "        (attention): MultiHeadSelfAttention(\n",
       "          (dropout): Dropout(p=0.1, inplace=False)\n",
       "          (q_lin): Linear(in_features=768, out_features=768, bias=True)\n",
       "          (k_lin): Linear(in_features=768, out_features=768, bias=True)\n",
       "          (v_lin): Linear(in_features=768, out_features=768, bias=True)\n",
       "          (out_lin): Linear(in_features=768, out_features=768, bias=True)\n",
       "        )\n",
       "        (sa_layer_norm): LayerNorm((768,), eps=1e-12, elementwise_affine=True)\n",
       "        (ffn): FFN(\n",
       "          (dropout): Dropout(p=0.1, inplace=False)\n",
       "          (lin1): Linear(in_features=768, out_features=3072, bias=True)\n",
       "          (lin2): Linear(in_features=3072, out_features=768, bias=True)\n",
       "          (activation): GELUActivation()\n",
       "        )\n",
       "        (output_layer_norm): LayerNorm((768,), eps=1e-12, elementwise_affine=True)\n",
       "      )\n",
       "    )\n",
       "  )\n",
       ")"
      ]
     },
     "execution_count": 3,
     "metadata": {},
     "output_type": "execute_result"
    }
   ],
   "source": [
    "bert"
   ]
  },
  {
   "cell_type": "code",
   "execution_count": 4,
   "metadata": {},
   "outputs": [
    {
     "name": "stdout",
     "output_type": "stream",
     "text": [
      "Trainable parameters: 66362880\n"
     ]
    }
   ],
   "source": [
    "trainable_parameters = 0\n",
    "for p in bert.parameters():\n",
    "    if p.requires_grad:\n",
    "        trainable_parameters += p.numel()\n",
    "print(\"Trainable parameters:\", trainable_parameters)"
   ]
  },
  {
   "cell_type": "markdown",
   "metadata": {},
   "source": [
    "**Store an output**"
   ]
  },
  {
   "cell_type": "code",
   "execution_count": 5,
   "metadata": {},
   "outputs": [],
   "source": [
    "B,T = (10,256)\n",
    "Vocsize = 30522\n",
    "random_inputs = torch.randint(0, Vocsize, size=(B,T))\n",
    "with torch.no_grad():\n",
    "    output = bert(random_inputs)"
   ]
  },
  {
   "cell_type": "code",
   "execution_count": 6,
   "metadata": {},
   "outputs": [
    {
     "data": {
      "text/plain": [
       "torch.Size([10, 256, 768])"
      ]
     },
     "execution_count": 6,
     "metadata": {},
     "output_type": "execute_result"
    }
   ],
   "source": [
    "output[\"last_hidden_state\"].shape"
   ]
  },
  {
   "cell_type": "markdown",
   "metadata": {},
   "source": [
    "We will apply LoRA on the Query matrix of the first attention head"
   ]
  },
  {
   "cell_type": "code",
   "execution_count": 7,
   "metadata": {},
   "outputs": [
    {
     "data": {
      "text/plain": [
       "torch.Size([768, 768])"
      ]
     },
     "execution_count": 7,
     "metadata": {},
     "output_type": "execute_result"
    }
   ],
   "source": [
    "bert.transformer.layer[0].attention.q_lin.weight.shape"
   ]
  },
  {
   "cell_type": "markdown",
   "metadata": {},
   "source": [
    "Create a pointer on this module, call it \"replaced_layer\""
   ]
  },
  {
   "cell_type": "code",
   "execution_count": 8,
   "metadata": {},
   "outputs": [],
   "source": [
    "replaced_layer = bert.transformer.layer[0].attention.q_lin"
   ]
  },
  {
   "cell_type": "markdown",
   "metadata": {},
   "source": [
    "Create our LoRA layer built on top of the replaced layer"
   ]
  },
  {
   "cell_type": "code",
   "execution_count": 9,
   "metadata": {},
   "outputs": [],
   "source": [
    "lora_layer = LoRA_Linear(replaced_layer, r=4)"
   ]
  },
  {
   "cell_type": "markdown",
   "metadata": {},
   "source": [
    "Then replace it in the pretrained model"
   ]
  },
  {
   "cell_type": "code",
   "execution_count": 10,
   "metadata": {},
   "outputs": [],
   "source": [
    "bert.transformer.layer[0].attention.q_lin = lora_layer"
   ]
  },
  {
   "cell_type": "code",
   "execution_count": 11,
   "metadata": {},
   "outputs": [
    {
     "data": {
      "text/plain": [
       "LoRA_Linear(\n",
       "  (base_layer): Linear(in_features=768, out_features=768, bias=True)\n",
       "  (B): Linear(in_features=768, out_features=4, bias=False)\n",
       "  (A): Linear(in_features=4, out_features=768, bias=False)\n",
       ")"
      ]
     },
     "execution_count": 11,
     "metadata": {},
     "output_type": "execute_result"
    }
   ],
   "source": [
    "bert.transformer.layer[0].attention.q_lin"
   ]
  },
  {
   "cell_type": "markdown",
   "metadata": {},
   "source": [
    "Let's check that the model still works"
   ]
  },
  {
   "cell_type": "code",
   "execution_count": 12,
   "metadata": {},
   "outputs": [],
   "source": [
    "with torch.no_grad():\n",
    "    output2 = bert(random_inputs)"
   ]
  },
  {
   "cell_type": "markdown",
   "metadata": {},
   "source": [
    "It should also output the same result of the pretrained model, since our B is initialized with zeros"
   ]
  },
  {
   "cell_type": "code",
   "execution_count": 13,
   "metadata": {},
   "outputs": [
    {
     "data": {
      "text/plain": [
       "tensor(0.)"
      ]
     },
     "execution_count": 13,
     "metadata": {},
     "output_type": "execute_result"
    }
   ],
   "source": [
    "torch.norm(output[\"last_hidden_state\"] - output2[\"last_hidden_state\"])"
   ]
  },
  {
   "cell_type": "code",
   "execution_count": 14,
   "metadata": {},
   "outputs": [
    {
     "name": "stdout",
     "output_type": "stream",
     "text": [
      "Trainable parameters: 65779200\n"
     ]
    }
   ],
   "source": [
    "trainable_parameters = 0\n",
    "for p in bert.parameters():\n",
    "    if p.requires_grad:\n",
    "        trainable_parameters += p.numel()\n",
    "print(\"Trainable parameters:\", trainable_parameters)"
   ]
  },
  {
   "cell_type": "markdown",
   "metadata": {},
   "source": [
    "Our trainable parameters decreased by 1 million"
   ]
  },
  {
   "cell_type": "markdown",
   "metadata": {},
   "source": [
    "Let's reload the model, and apply LoRA on every $W_q$ $W_v$ weight matrices"
   ]
  },
  {
   "cell_type": "code",
   "execution_count": 109,
   "metadata": {},
   "outputs": [],
   "source": [
    "bert = DistilBertModel.from_pretrained(\"distilbert-base-uncased\")"
   ]
  },
  {
   "cell_type": "code",
   "execution_count": 110,
   "metadata": {},
   "outputs": [
    {
     "data": {
      "text/plain": [
       "DistilBertModel(\n",
       "  (embeddings): Embeddings(\n",
       "    (word_embeddings): Embedding(30522, 768, padding_idx=0)\n",
       "    (position_embeddings): Embedding(512, 768)\n",
       "    (LayerNorm): LayerNorm((768,), eps=1e-12, elementwise_affine=True)\n",
       "    (dropout): Dropout(p=0.1, inplace=False)\n",
       "  )\n",
       "  (transformer): Transformer(\n",
       "    (layer): ModuleList(\n",
       "      (0-5): 6 x TransformerBlock(\n",
       "        (attention): MultiHeadSelfAttention(\n",
       "          (dropout): Dropout(p=0.1, inplace=False)\n",
       "          (q_lin): Linear(in_features=768, out_features=768, bias=True)\n",
       "          (k_lin): Linear(in_features=768, out_features=768, bias=True)\n",
       "          (v_lin): Linear(in_features=768, out_features=768, bias=True)\n",
       "          (out_lin): Linear(in_features=768, out_features=768, bias=True)\n",
       "        )\n",
       "        (sa_layer_norm): LayerNorm((768,), eps=1e-12, elementwise_affine=True)\n",
       "        (ffn): FFN(\n",
       "          (dropout): Dropout(p=0.1, inplace=False)\n",
       "          (lin1): Linear(in_features=768, out_features=3072, bias=True)\n",
       "          (lin2): Linear(in_features=3072, out_features=768, bias=True)\n",
       "          (activation): GELUActivation()\n",
       "        )\n",
       "        (output_layer_norm): LayerNorm((768,), eps=1e-12, elementwise_affine=True)\n",
       "      )\n",
       "    )\n",
       "  )\n",
       ")"
      ]
     },
     "execution_count": 110,
     "metadata": {},
     "output_type": "execute_result"
    }
   ],
   "source": [
    "bert"
   ]
  },
  {
   "cell_type": "code",
   "execution_count": 45,
   "metadata": {},
   "outputs": [
    {
     "data": {
      "text/plain": [
       "TransformerBlock(\n",
       "  (attention): MultiHeadSelfAttention(\n",
       "    (dropout): Dropout(p=0.1, inplace=False)\n",
       "    (q_lin): Linear(in_features=768, out_features=768, bias=True)\n",
       "    (k_lin): Linear(in_features=768, out_features=768, bias=True)\n",
       "    (v_lin): Linear(in_features=768, out_features=768, bias=True)\n",
       "    (out_lin): Linear(in_features=768, out_features=768, bias=True)\n",
       "  )\n",
       "  (sa_layer_norm): LayerNorm((768,), eps=1e-12, elementwise_affine=True)\n",
       "  (ffn): FFN(\n",
       "    (dropout): Dropout(p=0.1, inplace=False)\n",
       "    (lin1): Linear(in_features=768, out_features=3072, bias=True)\n",
       "    (lin2): Linear(in_features=3072, out_features=768, bias=True)\n",
       "    (activation): GELUActivation()\n",
       "  )\n",
       "  (output_layer_norm): LayerNorm((768,), eps=1e-12, elementwise_affine=True)\n",
       ")"
      ]
     },
     "execution_count": 45,
     "metadata": {},
     "output_type": "execute_result"
    }
   ],
   "source": [
    "bert.get_submodule(\"transformer.layer.0\")"
   ]
  },
  {
   "cell_type": "code",
   "execution_count": 59,
   "metadata": {},
   "outputs": [
    {
     "data": {
      "text/plain": [
       "[('',\n",
       "  TransformerBlock(\n",
       "    (attention): MultiHeadSelfAttention(\n",
       "      (dropout): Dropout(p=0.1, inplace=False)\n",
       "      (q_lin): Linear(in_features=768, out_features=768, bias=True)\n",
       "      (k_lin): Linear(in_features=768, out_features=768, bias=True)\n",
       "      (v_lin): Linear(in_features=768, out_features=768, bias=True)\n",
       "      (out_lin): Linear(in_features=768, out_features=768, bias=True)\n",
       "    )\n",
       "    (sa_layer_norm): LayerNorm((768,), eps=1e-12, elementwise_affine=True)\n",
       "    (ffn): FFN(\n",
       "      (dropout): Dropout(p=0.1, inplace=False)\n",
       "      (lin1): Linear(in_features=768, out_features=3072, bias=True)\n",
       "      (lin2): Linear(in_features=3072, out_features=768, bias=True)\n",
       "      (activation): GELUActivation()\n",
       "    )\n",
       "    (output_layer_norm): LayerNorm((768,), eps=1e-12, elementwise_affine=True)\n",
       "  )),\n",
       " ('attention',\n",
       "  MultiHeadSelfAttention(\n",
       "    (dropout): Dropout(p=0.1, inplace=False)\n",
       "    (q_lin): Linear(in_features=768, out_features=768, bias=True)\n",
       "    (k_lin): Linear(in_features=768, out_features=768, bias=True)\n",
       "    (v_lin): Linear(in_features=768, out_features=768, bias=True)\n",
       "    (out_lin): Linear(in_features=768, out_features=768, bias=True)\n",
       "  )),\n",
       " ('attention.dropout', Dropout(p=0.1, inplace=False)),\n",
       " ('attention.q_lin', Linear(in_features=768, out_features=768, bias=True)),\n",
       " ('attention.k_lin', Linear(in_features=768, out_features=768, bias=True)),\n",
       " ('attention.v_lin', Linear(in_features=768, out_features=768, bias=True)),\n",
       " ('attention.out_lin', Linear(in_features=768, out_features=768, bias=True)),\n",
       " ('sa_layer_norm', LayerNorm((768,), eps=1e-12, elementwise_affine=True)),\n",
       " ('ffn',\n",
       "  FFN(\n",
       "    (dropout): Dropout(p=0.1, inplace=False)\n",
       "    (lin1): Linear(in_features=768, out_features=3072, bias=True)\n",
       "    (lin2): Linear(in_features=3072, out_features=768, bias=True)\n",
       "    (activation): GELUActivation()\n",
       "  )),\n",
       " ('ffn.dropout', Dropout(p=0.1, inplace=False)),\n",
       " ('ffn.lin1', Linear(in_features=768, out_features=3072, bias=True)),\n",
       " ('ffn.lin2', Linear(in_features=3072, out_features=768, bias=True)),\n",
       " ('ffn.activation', GELUActivation()),\n",
       " ('output_layer_norm', LayerNorm((768,), eps=1e-12, elementwise_affine=True))]"
      ]
     },
     "execution_count": 59,
     "metadata": {},
     "output_type": "execute_result"
    }
   ],
   "source": [
    "transformer_block = bert.get_submodule(\"transformer.layer.0\")\n",
    "[mod for mod in transformer_block.named_modules()]"
   ]
  },
  {
   "cell_type": "code",
   "execution_count": 52,
   "metadata": {},
   "outputs": [],
   "source": [
    "q_lin = [bert.get_submodule(f\"transformer.layer.{i}.attention.q_lin\") for i in range(6)]\n",
    "v_lin = [bert.get_submodule(f\"transformer.layer.{i}.attention.v_lin\") for i in range(6)]\n",
    "k_lin = [bert.get_submodule(f\"transformer.layer.{i}.attention.k_lin\") for i in range(6)]\n",
    "out_lin = [bert.get_submodule(f\"transformer.layer.{i}.attention.out_lin\") for i in range(6)]"
   ]
  },
  {
   "cell_type": "code",
   "execution_count": 128,
   "metadata": {},
   "outputs": [
    {
     "data": {
      "text/plain": [
       "[('word_embeddings', Embedding(30522, 768, padding_idx=0)),\n",
       " ('position_embeddings', Embedding(512, 768)),\n",
       " ('LayerNorm', LayerNorm((768,), eps=1e-12, elementwise_affine=True)),\n",
       " ('dropout', Dropout(p=0.1, inplace=False))]"
      ]
     },
     "execution_count": 128,
     "metadata": {},
     "output_type": "execute_result"
    }
   ],
   "source": [
    "[name for name in bert.embeddings.named_children()]"
   ]
  },
  {
   "cell_type": "code",
   "execution_count": 143,
   "metadata": {},
   "outputs": [
    {
     "data": {
      "text/plain": [
       "Linear(in_features=768, out_features=768, bias=True)"
      ]
     },
     "execution_count": 143,
     "metadata": {},
     "output_type": "execute_result"
    }
   ],
   "source": [
    "bert.transformer.layer[0].attention.q_lin"
   ]
  },
  {
   "cell_type": "code",
   "execution_count": 145,
   "metadata": {},
   "outputs": [],
   "source": [
    "def apply_LoRA(layer_types:list[str], r):\n",
    "    'layer_types = [\"q_lin\", \"out_lin\", \"v_lin\", \"k_lin\"]'\n",
    "    bert = DistilBertModel.from_pretrained(\"distilbert-base-uncased\")\n",
    "    for param in bert.parameters():\n",
    "        param.requires_grad = False\n",
    "    modules = dict()\n",
    "    for layer_type in layer_types:\n",
    "        for i in range(6):\n",
    "            if layer_type == \"q_lin\":\n",
    "                target_layer = bert.get_submodule(f\"transformer.layer.{i}.attention.{layer_type}\")\n",
    "                target_layer_to_LoRA = LoRA_Linear(target_layer, r=r)\n",
    "                bert.transformer.layer[i].attention.q_lin = target_layer_to_LoRA\n",
    "\n",
    "    return bert\n",
    "\n",
    "def get_trainable_parameters(module:nn.Module):\n",
    "    count = 0\n",
    "    for param in module.parameters():\n",
    "        if param.requires_grad:\n",
    "            count += param.numel()\n",
    "    print(\"Trainable parameters: %d\"%count)"
   ]
  },
  {
   "cell_type": "code",
   "execution_count": 146,
   "metadata": {},
   "outputs": [],
   "source": [
    "bert_LoRA = apply_LoRA(layer_types=[\"q_lin\"], r=2)"
   ]
  },
  {
   "cell_type": "code",
   "execution_count": 147,
   "metadata": {},
   "outputs": [
    {
     "name": "stdout",
     "output_type": "stream",
     "text": [
      "Trainable parameters: 18432\n"
     ]
    }
   ],
   "source": [
    "get_trainable_parameters(bert_LoRA)"
   ]
  },
  {
   "cell_type": "code",
   "execution_count": 150,
   "metadata": {},
   "outputs": [
    {
     "data": {
      "text/plain": [
       "TransformerBlock(\n",
       "  (attention): MultiHeadSelfAttention(\n",
       "    (dropout): Dropout(p=0.1, inplace=False)\n",
       "    (q_lin): LoRA_Linear(\n",
       "      (base_layer): Linear(in_features=768, out_features=768, bias=True)\n",
       "      (B): Linear(in_features=768, out_features=2, bias=False)\n",
       "      (A): Linear(in_features=2, out_features=768, bias=False)\n",
       "    )\n",
       "    (k_lin): Linear(in_features=768, out_features=768, bias=True)\n",
       "    (v_lin): Linear(in_features=768, out_features=768, bias=True)\n",
       "    (out_lin): Linear(in_features=768, out_features=768, bias=True)\n",
       "  )\n",
       "  (sa_layer_norm): LayerNorm((768,), eps=1e-12, elementwise_affine=True)\n",
       "  (ffn): FFN(\n",
       "    (dropout): Dropout(p=0.1, inplace=False)\n",
       "    (lin1): Linear(in_features=768, out_features=3072, bias=True)\n",
       "    (lin2): Linear(in_features=3072, out_features=768, bias=True)\n",
       "    (activation): GELUActivation()\n",
       "  )\n",
       "  (output_layer_norm): LayerNorm((768,), eps=1e-12, elementwise_affine=True)\n",
       ")"
      ]
     },
     "execution_count": 150,
     "metadata": {},
     "output_type": "execute_result"
    }
   ],
   "source": [
    "bert_LoRA.transformer.layer[5]"
   ]
  },
  {
   "cell_type": "code",
   "execution_count": 107,
   "metadata": {},
   "outputs": [
    {
     "data": {
      "text/plain": [
       "Linear(in_features=768, out_features=768, bias=True)"
      ]
     },
     "execution_count": 107,
     "metadata": {},
     "output_type": "execute_result"
    }
   ],
   "source": [
    "bert_LoRA.transformer.layer[0].attention.q_lin"
   ]
  }
 ],
 "metadata": {
  "kernelspec": {
   "display_name": "venv",
   "language": "python",
   "name": "python3"
  },
  "language_info": {
   "codemirror_mode": {
    "name": "ipython",
    "version": 3
   },
   "file_extension": ".py",
   "mimetype": "text/x-python",
   "name": "python",
   "nbconvert_exporter": "python",
   "pygments_lexer": "ipython3",
   "version": "3.12.3"
  }
 },
 "nbformat": 4,
 "nbformat_minor": 2
}
