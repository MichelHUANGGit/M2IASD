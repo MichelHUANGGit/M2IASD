{
 "cells": [
  {
   "cell_type": "code",
   "execution_count": 1,
   "metadata": {},
   "outputs": [],
   "source": [
    "from transformers import AutoModelForCausalLM, AutoTokenizer\n",
    "import torch\n",
    "import torch.nn as nn\n",
    "import torch.nn.functional as F\n",
    "from LoRA import LoRA_Linear\n",
    "from transformers import BitsAndBytesConfig\n",
    "bnb_config = BitsAndBytesConfig(\n",
    "    load_in_4bit=True,\n",
    "    bnb_4bit_use_double_quant=True,\n",
    "    bnb_4bit_quant_type=\"nf4\",\n",
    "    bnb_4bit_compute_dtype=torch.bfloat16\n",
    ")\n",
    "\n",
    "model_id = \"TinyLlama/TinyLlama-1.1B-intermediate-step-1431k-3T\"\n",
    "\n",
    "tokenizer = AutoTokenizer.from_pretrained(model_id)\n",
    "# model = AutoModelForCausalLM.from_pretrained(model_id)"
   ]
  },
  {
   "cell_type": "code",
   "execution_count": 2,
   "metadata": {},
   "outputs": [],
   "source": [
    "def get_trainable_parameters(module:nn.Module):\n",
    "    count = 0\n",
    "    for param in module.parameters():\n",
    "        if param.requires_grad:\n",
    "            count += param.numel()\n",
    "    return count"
   ]
  },
  {
   "cell_type": "code",
   "execution_count": 3,
   "metadata": {},
   "outputs": [],
   "source": [
    "def apply_LoRA_tinyllama(target_layers=[\"q_proj\",\"k_proj\",\"v_proj\",\"o_proj\"], r=4):\n",
    "    model_id = \"TinyLlama/TinyLlama-1.1B-intermediate-step-1431k-3T\"\n",
    "    model = AutoModelForCausalLM.from_pretrained(model_id)\n",
    "    count = get_trainable_parameters(model)\n",
    "    print(\"Before Trainable parameters: %d\"%count)\n",
    "\n",
    "    for param in model.parameters():\n",
    "        param.requires_grad = False\n",
    "    n_layers = len(model.model.layers)\n",
    "    \n",
    "    for i in range(n_layers):\n",
    "        if \"q_proj\" in target_layers:\n",
    "            model.model.layers[i].self_attn.q_proj = LoRA_Linear(model.model.layers[i].self_attn.q_proj, r=r)\n",
    "        if \"k_proj\" in target_layers:\n",
    "            model.model.layers[i].self_attn.k_proj = LoRA_Linear(model.model.layers[i].self_attn.k_proj, r=r)\n",
    "        if \"v_proj\" in target_layers:\n",
    "            model.model.layers[i].self_attn.v_proj = LoRA_Linear(model.model.layers[i].self_attn.v_proj, r=r)\n",
    "        if \"o_proj\" in target_layers:\n",
    "            model.model.layers[i].self_attn.o_proj = LoRA_Linear(model.model.layers[i].self_attn.o_proj, r=r)\n",
    "\n",
    "    device = torch.device(\"cuda\")\n",
    "    model.to(device)\n",
    "\n",
    "    count = get_trainable_parameters(model)\n",
    "    print(\"After Trainable parameters: %d\"%count)\n",
    "    return model"
   ]
  },
  {
   "cell_type": "code",
   "execution_count": 4,
   "metadata": {},
   "outputs": [
    {
     "name": "stdout",
     "output_type": "stream",
     "text": [
      "Before Trainable parameters: 1100048384\n",
      "After Trainable parameters: 1126400\n"
     ]
    }
   ],
   "source": [
    "LoRA_llama = apply_LoRA_tinyllama(target_layers=[\"q_proj\",\"k_proj\",\"v_proj\",\"o_proj\"], r=4)"
   ]
  },
  {
   "cell_type": "code",
   "execution_count": 5,
   "metadata": {},
   "outputs": [
    {
     "data": {
      "text/plain": [
       "LlamaForCausalLM(\n",
       "  (model): LlamaModel(\n",
       "    (embed_tokens): Embedding(32000, 2048)\n",
       "    (layers): ModuleList(\n",
       "      (0-21): 22 x LlamaDecoderLayer(\n",
       "        (self_attn): LlamaSdpaAttention(\n",
       "          (q_proj): LoRA_Linear(\n",
       "            (base_layer): Linear(in_features=2048, out_features=2048, bias=False)\n",
       "            (B): Linear(in_features=2048, out_features=4, bias=False)\n",
       "            (A): Linear(in_features=4, out_features=2048, bias=False)\n",
       "          )\n",
       "          (k_proj): LoRA_Linear(\n",
       "            (base_layer): Linear(in_features=2048, out_features=256, bias=False)\n",
       "            (B): Linear(in_features=2048, out_features=4, bias=False)\n",
       "            (A): Linear(in_features=4, out_features=256, bias=False)\n",
       "          )\n",
       "          (v_proj): LoRA_Linear(\n",
       "            (base_layer): Linear(in_features=2048, out_features=256, bias=False)\n",
       "            (B): Linear(in_features=2048, out_features=4, bias=False)\n",
       "            (A): Linear(in_features=4, out_features=256, bias=False)\n",
       "          )\n",
       "          (o_proj): LoRA_Linear(\n",
       "            (base_layer): Linear(in_features=2048, out_features=2048, bias=False)\n",
       "            (B): Linear(in_features=2048, out_features=4, bias=False)\n",
       "            (A): Linear(in_features=4, out_features=2048, bias=False)\n",
       "          )\n",
       "          (rotary_emb): LlamaRotaryEmbedding()\n",
       "        )\n",
       "        (mlp): LlamaMLP(\n",
       "          (gate_proj): Linear(in_features=2048, out_features=5632, bias=False)\n",
       "          (up_proj): Linear(in_features=2048, out_features=5632, bias=False)\n",
       "          (down_proj): Linear(in_features=5632, out_features=2048, bias=False)\n",
       "          (act_fn): SiLU()\n",
       "        )\n",
       "        (input_layernorm): LlamaRMSNorm()\n",
       "        (post_attention_layernorm): LlamaRMSNorm()\n",
       "      )\n",
       "    )\n",
       "    (norm): LlamaRMSNorm()\n",
       "  )\n",
       "  (lm_head): Linear(in_features=2048, out_features=32000, bias=False)\n",
       ")"
      ]
     },
     "execution_count": 5,
     "metadata": {},
     "output_type": "execute_result"
    }
   ],
   "source": [
    "LoRA_llama"
   ]
  },
  {
   "cell_type": "code",
   "execution_count": 6,
   "metadata": {},
   "outputs": [],
   "source": [
    "B,L = 4,256\n",
    "vocsize = tokenizer.vocab_size\n",
    "device = torch.device(\"cuda\")\n",
    "random_inputs = torch.randint(low=0, high=vocsize, size=(B,L)).to(device)"
   ]
  },
  {
   "cell_type": "code",
   "execution_count": 7,
   "metadata": {},
   "outputs": [
    {
     "name": "stderr",
     "output_type": "stream",
     "text": [
      "c:\\Users\\huang\\Desktop\\M2IASD\\NLP\\venv\\Lib\\site-packages\\transformers\\models\\llama\\modeling_llama.py:671: UserWarning: 1Torch was not compiled with flash attention. (Triggered internally at ..\\aten\\src\\ATen\\native\\transformers\\cuda\\sdp_utils.cpp:455.)\n",
      "  attn_output = torch.nn.functional.scaled_dot_product_attention(\n"
     ]
    }
   ],
   "source": [
    "with torch.no_grad():\n",
    "    outputs = LoRA_llama(random_inputs)"
   ]
  },
  {
   "cell_type": "code",
   "execution_count": 12,
   "metadata": {},
   "outputs": [
    {
     "data": {
      "text/plain": [
       "torch.Size([4, 256, 32000])"
      ]
     },
     "execution_count": 12,
     "metadata": {},
     "output_type": "execute_result"
    }
   ],
   "source": [
    "outputs.logits.shape"
   ]
  }
 ],
 "metadata": {
  "kernelspec": {
   "display_name": "venv",
   "language": "python",
   "name": "python3"
  },
  "language_info": {
   "codemirror_mode": {
    "name": "ipython",
    "version": 3
   },
   "file_extension": ".py",
   "mimetype": "text/x-python",
   "name": "python",
   "nbconvert_exporter": "python",
   "pygments_lexer": "ipython3",
   "version": "3.12.4"
  }
 },
 "nbformat": 4,
 "nbformat_minor": 2
}
