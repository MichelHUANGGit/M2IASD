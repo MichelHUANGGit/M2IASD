{
  "cells": [
    {
      "cell_type": "markdown",
      "metadata": {},
      "source": [
        "# Notebook to run on colab \n",
        "\n",
        "Comment : we created this notebook to use  the library 'e2e-metrics' to avoid problems that we faced when we tried to use it on our local machine."
      ]
    },
    {
      "cell_type": "code",
      "execution_count": 1,
      "metadata": {
        "colab": {
          "base_uri": "https://localhost:8080/"
        },
        "id": "s1frQlqAZnkv",
        "outputId": "689b5524-9d3e-4158-adb5-066b94081b8d"
      },
      "outputs": [
        {
          "name": "stdout",
          "output_type": "stream",
          "text": [
            "Cloning into 'e2e-metrics'...\n",
            "remote: Enumerating objects: 909, done.\u001b[K\n",
            "remote: Counting objects: 100% (3/3), done.\u001b[K\n",
            "remote: Compressing objects: 100% (3/3), done.\u001b[K\n",
            "remote: Total 909 (delta 0), reused 1 (delta 0), pack-reused 906\u001b[K\n",
            "Receiving objects: 100% (909/909), 106.78 MiB | 13.41 MiB/s, done.\n",
            "Resolving deltas: 100% (492/492), done.\n"
          ]
        }
      ],
      "source": [
        "%%capture\n",
        "!git clone https://github.com/tuetschek/e2e-metrics.git"
      ]
    },
    {
      "cell_type": "code",
      "execution_count": 2,
      "metadata": {
        "colab": {
          "base_uri": "https://localhost:8080/"
        },
        "id": "QQ5eM-MoZ-v2",
        "outputId": "366d3ec4-2e3b-4acf-99a9-6ac9a842ca38"
      },
      "outputs": [
        {
          "name": "stdout",
          "output_type": "stream",
          "text": [
            "Requirement already satisfied: matplotlib in /usr/local/lib/python3.10/dist-packages (from -r requirements.txt (line 1)) (3.7.1)\n",
            "Requirement already satisfied: scikit-image in /usr/local/lib/python3.10/dist-packages (from -r requirements.txt (line 2)) (0.19.3)\n",
            "Requirement already satisfied: future in /usr/local/lib/python3.10/dist-packages (from -r requirements.txt (line 3)) (0.18.3)\n",
            "Requirement already satisfied: contourpy>=1.0.1 in /usr/local/lib/python3.10/dist-packages (from matplotlib->-r requirements.txt (line 1)) (1.2.1)\n",
            "Requirement already satisfied: cycler>=0.10 in /usr/local/lib/python3.10/dist-packages (from matplotlib->-r requirements.txt (line 1)) (0.12.1)\n",
            "Requirement already satisfied: fonttools>=4.22.0 in /usr/local/lib/python3.10/dist-packages (from matplotlib->-r requirements.txt (line 1)) (4.53.0)\n",
            "Requirement already satisfied: kiwisolver>=1.0.1 in /usr/local/lib/python3.10/dist-packages (from matplotlib->-r requirements.txt (line 1)) (1.4.5)\n",
            "Requirement already satisfied: numpy>=1.20 in /usr/local/lib/python3.10/dist-packages (from matplotlib->-r requirements.txt (line 1)) (1.25.2)\n",
            "Requirement already satisfied: packaging>=20.0 in /usr/local/lib/python3.10/dist-packages (from matplotlib->-r requirements.txt (line 1)) (24.1)\n",
            "Requirement already satisfied: pillow>=6.2.0 in /usr/local/lib/python3.10/dist-packages (from matplotlib->-r requirements.txt (line 1)) (9.4.0)\n",
            "Requirement already satisfied: pyparsing>=2.3.1 in /usr/local/lib/python3.10/dist-packages (from matplotlib->-r requirements.txt (line 1)) (3.1.2)\n",
            "Requirement already satisfied: python-dateutil>=2.7 in /usr/local/lib/python3.10/dist-packages (from matplotlib->-r requirements.txt (line 1)) (2.8.2)\n",
            "Requirement already satisfied: scipy>=1.4.1 in /usr/local/lib/python3.10/dist-packages (from scikit-image->-r requirements.txt (line 2)) (1.11.4)\n",
            "Requirement already satisfied: networkx>=2.2 in /usr/local/lib/python3.10/dist-packages (from scikit-image->-r requirements.txt (line 2)) (3.3)\n",
            "Requirement already satisfied: imageio>=2.4.1 in /usr/local/lib/python3.10/dist-packages (from scikit-image->-r requirements.txt (line 2)) (2.31.6)\n",
            "Requirement already satisfied: tifffile>=2019.7.26 in /usr/local/lib/python3.10/dist-packages (from scikit-image->-r requirements.txt (line 2)) (2024.6.18)\n",
            "Requirement already satisfied: PyWavelets>=1.1.1 in /usr/local/lib/python3.10/dist-packages (from scikit-image->-r requirements.txt (line 2)) (1.6.0)\n",
            "Requirement already satisfied: six>=1.5 in /usr/local/lib/python3.10/dist-packages (from python-dateutil>=2.7->matplotlib->-r requirements.txt (line 1)) (1.16.0)\n"
          ]
        }
      ],
      "source": [
        "%%capture\n",
        "!cd e2e-metrics/ && pip install -r requirements.txt"
      ]
    },
    {
      "cell_type": "code",
      "execution_count": 3,
      "metadata": {
        "colab": {
          "base_uri": "https://localhost:8080/"
        },
        "collapsed": true,
        "id": "bSyRshqvZypX",
        "outputId": "68bef135-f5ce-4039-c707-57f44e5de3aa"
      },
      "outputs": [
        {
          "name": "stdout",
          "output_type": "stream",
          "text": [
            "  % Total    % Received % Xferd  Average Speed   Time    Time     Time  Current\n",
            "                                 Dload  Upload   Total   Spent    Left  Speed\n",
            "100  295k  100  295k    0     0   774k      0 --:--:-- --:--:-- --:--:--  777k\n",
            "--> Working on App::cpanminus\n",
            "Fetching http://www.cpan.org/authors/id/M/MI/MIYAGAWA/App-cpanminus-1.7047.tar.gz ... OK\n",
            "Configuring App-cpanminus-1.7047 ... OK\n",
            "Building and testing App-cpanminus-1.7047 ... OK\n",
            "Successfully installed App-cpanminus-1.7047\n",
            "1 distribution installed\n",
            "--> Working on XML::Twig\n",
            "Fetching http://www.cpan.org/authors/id/M/MI/MIROD/XML-Twig-3.52.tar.gz ... OK\n",
            "Configuring XML-Twig-3.52 ... OK\n",
            "==> Found dependencies: XML::Parser\n",
            "--> Working on XML::Parser\n",
            "Fetching http://www.cpan.org/authors/id/T/TO/TODDR/XML-Parser-2.47.tar.gz ... OK\n",
            "Configuring XML-Parser-2.47 ... OK\n",
            "==> Found dependencies: LWP::UserAgent\n",
            "--> Working on LWP::UserAgent\n",
            "Fetching http://www.cpan.org/authors/id/O/OA/OALDERS/libwww-perl-6.77.tar.gz ... OK\n",
            "Configuring libwww-perl-6.77 ... OK\n",
            "==> Found dependencies: Try::Tiny, Test::RequiresInternet, HTTP::Negotiate, Test::Needs, Net::HTTP, HTTP::Response, HTTP::Daemon, HTTP::Status, LWP::MediaTypes, Test::Fatal, HTML::Entities, URI::Escape, WWW::RobotRules, HTTP::Request::Common, URI, HTTP::Date, HTTP::Request, Encode::Locale, HTTP::Cookies, HTML::HeadParser, HTTP::CookieJar::LWP, File::Listing\n",
            "--> Working on Try::Tiny\n",
            "Fetching http://www.cpan.org/authors/id/E/ET/ETHER/Try-Tiny-0.31.tar.gz ... OK\n",
            "Configuring Try-Tiny-0.31 ... OK\n",
            "Building and testing Try-Tiny-0.31 ... OK\n",
            "Successfully installed Try-Tiny-0.31\n",
            "--> Working on Test::RequiresInternet\n",
            "Fetching http://www.cpan.org/authors/id/M/MA/MALLEN/Test-RequiresInternet-0.05.tar.gz ... OK\n",
            "Configuring Test-RequiresInternet-0.05 ... OK\n",
            "Building and testing Test-RequiresInternet-0.05 ... OK\n",
            "Successfully installed Test-RequiresInternet-0.05\n",
            "--> Working on HTTP::Negotiate\n",
            "Fetching http://www.cpan.org/authors/id/G/GA/GAAS/HTTP-Negotiate-6.01.tar.gz ... OK\n",
            "Configuring HTTP-Negotiate-6.01 ... OK\n",
            "==> Found dependencies: HTTP::Headers\n",
            "--> Working on HTTP::Headers\n",
            "Fetching http://www.cpan.org/authors/id/O/OA/OALDERS/HTTP-Message-6.46.tar.gz ... OK\n",
            "Configuring HTTP-Message-6.46 ... OK\n",
            "==> Found dependencies: LWP::MediaTypes, URI::URL, Test::Needs, Clone, IO::HTML, Encode::Locale, URI, HTTP::Date\n",
            "--> Working on LWP::MediaTypes\n",
            "Fetching http://www.cpan.org/authors/id/O/OA/OALDERS/LWP-MediaTypes-6.04.tar.gz ... OK\n",
            "Configuring LWP-MediaTypes-6.04 ... OK\n",
            "==> Found dependencies: Test::Fatal\n",
            "--> Working on Test::Fatal\n",
            "Fetching http://www.cpan.org/authors/id/R/RJ/RJBS/Test-Fatal-0.017.tar.gz ... OK\n",
            "Configuring Test-Fatal-0.017 ... OK\n",
            "Building and testing Test-Fatal-0.017 ... OK\n",
            "Successfully installed Test-Fatal-0.017\n",
            "Building and testing LWP-MediaTypes-6.04 ... OK\n",
            "Successfully installed LWP-MediaTypes-6.04\n",
            "--> Working on URI::URL\n",
            "Fetching http://www.cpan.org/authors/id/O/OA/OALDERS/URI-5.28.tar.gz ... OK\n",
            "Configuring URI-5.28 ... OK\n",
            "==> Found dependencies: Test::Warnings, Test::Needs\n",
            "--> Working on Test::Warnings\n",
            "Fetching http://www.cpan.org/authors/id/E/ET/ETHER/Test-Warnings-0.033.tar.gz ... OK\n",
            "Configuring Test-Warnings-0.033 ... OK\n",
            "Building and testing Test-Warnings-0.033 ... OK\n",
            "Successfully installed Test-Warnings-0.033\n",
            "--> Working on Test::Needs\n",
            "Fetching http://www.cpan.org/authors/id/H/HA/HAARG/Test-Needs-0.002010.tar.gz ... OK\n",
            "Configuring Test-Needs-0.002010 ... OK\n",
            "Building and testing Test-Needs-0.002010 ... OK\n",
            "Successfully installed Test-Needs-0.002010\n",
            "Building and testing URI-5.28 ... OK\n",
            "Successfully installed URI-5.28\n",
            "--> Working on Clone\n",
            "Fetching http://www.cpan.org/authors/id/G/GA/GARU/Clone-0.46.tar.gz ... OK\n",
            "Configuring Clone-0.46 ... OK\n",
            "==> Found dependencies: B::COW\n",
            "--> Working on B::COW\n",
            "Fetching http://www.cpan.org/authors/id/A/AT/ATOOMIC/B-COW-0.007.tar.gz ... OK\n",
            "Configuring B-COW-0.007 ... OK\n",
            "Building and testing B-COW-0.007 ... OK\n",
            "Successfully installed B-COW-0.007\n",
            "Building and testing Clone-0.46 ... OK\n",
            "Successfully installed Clone-0.46\n",
            "--> Working on IO::HTML\n",
            "Fetching http://www.cpan.org/authors/id/C/CJ/CJM/IO-HTML-1.004.tar.gz ... OK\n",
            "Configuring IO-HTML-1.004 ... OK\n",
            "Building and testing IO-HTML-1.004 ... OK\n",
            "Successfully installed IO-HTML-1.004\n",
            "--> Working on Encode::Locale\n",
            "Fetching http://www.cpan.org/authors/id/G/GA/GAAS/Encode-Locale-1.05.tar.gz ... OK\n",
            "Configuring Encode-Locale-1.05 ... OK\n",
            "Building and testing Encode-Locale-1.05 ... OK\n",
            "Successfully installed Encode-Locale-1.05\n",
            "--> Working on HTTP::Date\n",
            "Fetching http://www.cpan.org/authors/id/O/OA/OALDERS/HTTP-Date-6.06.tar.gz ... OK\n",
            "Configuring HTTP-Date-6.06 ... OK\n",
            "Building and testing HTTP-Date-6.06 ... OK\n",
            "Successfully installed HTTP-Date-6.06\n",
            "Building and testing HTTP-Message-6.46 ... OK\n",
            "Successfully installed HTTP-Message-6.46\n",
            "Building and testing HTTP-Negotiate-6.01 ... OK\n",
            "Successfully installed HTTP-Negotiate-6.01\n",
            "--> Working on Net::HTTP\n",
            "Fetching http://www.cpan.org/authors/id/O/OA/OALDERS/Net-HTTP-6.23.tar.gz ... OK\n",
            "Configuring Net-HTTP-6.23 ... OK\n",
            "Building and testing Net-HTTP-6.23 ... OK\n",
            "Successfully installed Net-HTTP-6.23\n",
            "--> Working on HTTP::Daemon\n",
            "Fetching http://www.cpan.org/authors/id/O/OA/OALDERS/HTTP-Daemon-6.16.tar.gz ... OK\n",
            "==> Found dependencies: Module::Build::Tiny\n",
            "--> Working on Module::Build::Tiny\n",
            "Fetching http://www.cpan.org/authors/id/L/LE/LEONT/Module-Build-Tiny-0.048.tar.gz ... OK\n",
            "==> Found dependencies: ExtUtils::InstallPaths, CPAN::Requirements::Dynamic, ExtUtils::Helpers, ExtUtils::Config\n",
            "--> Working on ExtUtils::InstallPaths\n",
            "Fetching http://www.cpan.org/authors/id/L/LE/LEONT/ExtUtils-InstallPaths-0.013.tar.gz ... OK\n",
            "Configuring ExtUtils-InstallPaths-0.013 ... OK\n",
            "==> Found dependencies: ExtUtils::Config\n",
            "--> Working on ExtUtils::Config\n",
            "Fetching http://www.cpan.org/authors/id/L/LE/LEONT/ExtUtils-Config-0.009.tar.gz ... OK\n",
            "Configuring ExtUtils-Config-0.009 ... OK\n",
            "Building and testing ExtUtils-Config-0.009 ... OK\n",
            "Successfully installed ExtUtils-Config-0.009\n",
            "Building and testing ExtUtils-InstallPaths-0.013 ... OK\n",
            "Successfully installed ExtUtils-InstallPaths-0.013\n",
            "--> Working on CPAN::Requirements::Dynamic\n",
            "Fetching http://www.cpan.org/authors/id/L/LE/LEONT/CPAN-Requirements-Dynamic-0.001.tar.gz ... OK\n",
            "Configuring CPAN-Requirements-Dynamic-0.001 ... OK\n",
            "==> Found dependencies: ExtUtils::HasCompiler, CPAN::Meta::Requirements::Range\n",
            "--> Working on ExtUtils::HasCompiler\n",
            "Fetching http://www.cpan.org/authors/id/L/LE/LEONT/ExtUtils-HasCompiler-0.025.tar.gz ... OK\n",
            "Configuring ExtUtils-HasCompiler-0.025 ... OK\n",
            "Building and testing ExtUtils-HasCompiler-0.025 ... OK\n",
            "Successfully installed ExtUtils-HasCompiler-0.025\n",
            "--> Working on CPAN::Meta::Requirements::Range\n",
            "Fetching http://www.cpan.org/authors/id/R/RJ/RJBS/CPAN-Meta-Requirements-2.143.tar.gz ... OK\n",
            "Configuring CPAN-Meta-Requirements-2.143 ... OK\n",
            "Building and testing CPAN-Meta-Requirements-2.143 ... OK\n",
            "Successfully installed CPAN-Meta-Requirements-2.143\n",
            "Building and testing CPAN-Requirements-Dynamic-0.001 ... OK\n",
            "Successfully installed CPAN-Requirements-Dynamic-0.001\n",
            "--> Working on ExtUtils::Helpers\n",
            "Fetching http://www.cpan.org/authors/id/L/LE/LEONT/ExtUtils-Helpers-0.027.tar.gz ... OK\n",
            "Configuring ExtUtils-Helpers-0.027 ... OK\n",
            "Building and testing ExtUtils-Helpers-0.027 ... OK\n",
            "Successfully installed ExtUtils-Helpers-0.027\n",
            "Configuring Module-Build-Tiny-0.048 ... OK\n",
            "Building and testing Module-Build-Tiny-0.048 ... OK\n",
            "Successfully installed Module-Build-Tiny-0.048\n",
            "Configuring HTTP-Daemon-6.16 ... OK\n",
            "Building and testing HTTP-Daemon-6.16 ... OK\n",
            "Successfully installed HTTP-Daemon-6.16\n",
            "--> Working on HTML::Entities\n",
            "Fetching http://www.cpan.org/authors/id/O/OA/OALDERS/HTML-Parser-3.82.tar.gz ... OK\n",
            "Configuring HTML-Parser-3.82 ... OK\n",
            "==> Found dependencies: HTML::Tagset\n",
            "--> Working on HTML::Tagset\n",
            "Fetching http://www.cpan.org/authors/id/P/PE/PETDANCE/HTML-Tagset-3.24.tar.gz ... OK\n",
            "Configuring HTML-Tagset-3.24 ... OK\n",
            "Building and testing HTML-Tagset-3.24 ... OK\n",
            "Successfully installed HTML-Tagset-3.24\n",
            "Building and testing HTML-Parser-3.82 ... OK\n",
            "Successfully installed HTML-Parser-3.82\n",
            "--> Working on WWW::RobotRules\n",
            "Fetching http://www.cpan.org/authors/id/G/GA/GAAS/WWW-RobotRules-6.02.tar.gz ... OK\n",
            "Configuring WWW-RobotRules-6.02 ... OK\n",
            "Building and testing WWW-RobotRules-6.02 ... OK\n",
            "Successfully installed WWW-RobotRules-6.02\n",
            "--> Working on HTTP::Cookies\n",
            "Fetching http://www.cpan.org/authors/id/O/OA/OALDERS/HTTP-Cookies-6.11.tar.gz ... OK\n",
            "Configuring HTTP-Cookies-6.11 ... OK\n",
            "Building and testing HTTP-Cookies-6.11 ... OK\n",
            "Successfully installed HTTP-Cookies-6.11\n",
            "--> Working on HTTP::CookieJar::LWP\n",
            "Fetching http://www.cpan.org/authors/id/D/DA/DAGOLDEN/HTTP-CookieJar-0.014.tar.gz ... OK\n",
            "Configuring HTTP-CookieJar-0.014 ... OK\n",
            "==> Found dependencies: Test::Requires, Test::Deep\n",
            "--> Working on Test::Requires\n",
            "Fetching http://www.cpan.org/authors/id/T/TO/TOKUHIROM/Test-Requires-0.11.tar.gz ... OK\n",
            "Configuring Test-Requires-0.11 ... OK\n",
            "Building and testing Test-Requires-0.11 ... OK\n",
            "Successfully installed Test-Requires-0.11\n",
            "--> Working on Test::Deep\n",
            "Fetching http://www.cpan.org/authors/id/R/RJ/RJBS/Test-Deep-1.204.tar.gz ... OK\n",
            "Configuring Test-Deep-1.204 ... OK\n",
            "Building and testing Test-Deep-1.204 ... OK\n",
            "Successfully installed Test-Deep-1.204\n",
            "Building and testing HTTP-CookieJar-0.014 ... OK\n",
            "Successfully installed HTTP-CookieJar-0.014\n",
            "--> Working on File::Listing\n",
            "Fetching http://www.cpan.org/authors/id/P/PL/PLICEASE/File-Listing-6.16.tar.gz ... OK\n",
            "Configuring File-Listing-6.16 ... OK\n",
            "Building and testing File-Listing-6.16 ... OK\n",
            "Successfully installed File-Listing-6.16\n",
            "Building and testing libwww-perl-6.77 ... OK\n",
            "Successfully installed libwww-perl-6.77\n",
            "Building and testing XML-Parser-2.47 ... OK\n",
            "Successfully installed XML-Parser-2.47\n",
            "Building and testing XML-Twig-3.52 ... OK\n",
            "Successfully installed XML-Twig-3.52\n",
            "34 distributions installed\n"
          ]
        }
      ],
      "source": [
        "%%capture\n",
        "!cd e2e-metrics/ && curl -L https://cpanmin.us | perl - App::cpanminus && cpanm XML::Twig\n",
        "# it takes 2 min"
      ]
    },
    {
      "cell_type": "code",
      "execution_count": 7,
      "metadata": {
        "colab": {
          "base_uri": "https://localhost:8080/"
        },
        "id": "K7gbj0PRcNGB",
        "outputId": "0e791c82-105d-4bdb-bdc0-21a94940fc4d"
      },
      "outputs": [
        {
          "name": "stdout",
          "output_type": "stream",
          "text": [
            "usage: measure_scores.py [-h] [-l SENT_LEVEL] [-s SRC_FILE] [-p] [-t] [-H] ref_file sys_file\n",
            "\n",
            "E2E Challenge evaluation -- MS-COCO & MTEval wrapper\n",
            "\n",
            "positional arguments:\n",
            "  ref_file              References file -- multiple references separated by empty lines (or\n",
            "                        single-reference with no empty lines). Can also be a TSV file with source\n",
            "                        & reference columns. In that case, consecutive identical SRC columns are\n",
            "                        grouped as multiple references for the same source.\n",
            "  sys_file              System output file to evaluate (text file with one output per line, or a\n",
            "                        TSV file with sources & corresponding outputs).\n",
            "\n",
            "options:\n",
            "  -h, --help            show this help message and exit\n",
            "  -l SENT_LEVEL, --sent-level SENT_LEVEL, --seg-level SENT_LEVEL, --sentence-level SENT_LEVEL, --segment-level SENT_LEVEL\n",
            "                        Output segment-level scores in a TSV format to the given file?\n",
            "  -s SRC_FILE, --src-file SRC_FILE\n",
            "                        Source file -- if given, system output should be a TSV with source &\n",
            "                        output columns, source is checked for integrity\n",
            "  -p, --python          Use Python implementation of MTEval instead of Perl?\n",
            "  -t, --table           Print out results as a line in aTSV table?\n",
            "  -H, --header          Print TSV table header?\n"
          ]
        }
      ],
      "source": [
        "!cd e2e-metrics/ && ./measure_scores.py -h"
      ]
    },
    {
      "cell_type": "code",
      "execution_count": 19,
      "metadata": {
        "colab": {
          "base_uri": "https://localhost:8080/"
        },
        "id": "_KfsdYWtbPx2",
        "outputId": "caf8f406-2ed5-4d96-e238-7b55b6994c93"
      },
      "outputs": [
        {
          "name": "stdout",
          "output_type": "stream",
          "text": [
            "Running MS-COCO evaluator...\n",
            "creating index...\n",
            "index created!\n",
            "Loading and preparing results...     \n",
            "DONE (t=0.00s)\n",
            "creating index...\n",
            "index created!\n",
            "tokenization...\n",
            "PTBTokenizer tokenized 2198 tokens at 11852.90 tokens per second.\n",
            "PTBTokenizer tokenized 162 tokens at 1049.79 tokens per second.\n",
            "setting up scorers...\n",
            "computing METEOR score...\n",
            "METEOR: 0.480\n",
            "computing Rouge score...\n",
            "ROUGE_L: 0.791\n",
            "computing CIDEr score...\n",
            "CIDEr: 2.304\n",
            "Creating temp directory  /tmp/e2e-eval-hp6ize_2\n",
            "Running MTEval to compute BLEU & NIST...\n",
            "Use of 'Hyphen' in \\p{} or \\P{} is deprecated because: Supplanted by Line_Break property values; see www.unicode.org/reports/tr14 at /content/mteval/mteval-v13a-sig.pl line 993.\n",
            "Use of 'Hyphen' in \\p{} or \\P{} is deprecated because: Supplanted by Line_Break property values; see www.unicode.org/reports/tr14 at /content/mteval/mteval-v13a-sig.pl line 993.\n",
            "MT evaluation scorer began on 2024 Jul 7 at 13:44:29\n",
            "command line:  /content/mteval/mteval-v13a-sig.pl -r /tmp/e2e-eval-hp6ize_2/mteval_ref.sgm -s /tmp/e2e-eval-hp6ize_2/mteval_src.sgm -t /tmp/e2e-eval-hp6ize_2/mteval_sys.sgm -f /tmp/e2e-eval-hp6ize_2/mteval_log.txt\n",
            "  Evaluation of any-to-en translation using:\n",
            "    src set \"e2e\" (1 docs, 10 segs)\n",
            "    ref set \"e2e\" (39 refs)\n",
            "    tst set \"e2e\" (1 systems)\n",
            "\n",
            "NIST score = 7.8212  BLEU score = 0.7203 for system \"tst\"\n",
            "\n",
            "# ------------------------------------------------------------------------\n",
            "\n",
            "Individual N-gram scoring\n",
            "        1-gram   2-gram   3-gram   4-gram   5-gram   6-gram   7-gram   8-gram   9-gram\n",
            "        ------   ------   ------   ------   ------   ------   ------   ------   ------\n",
            " NIST:  5.0188   1.2290   0.7479   0.5009   0.3246   0.0936   0.0385   0.0191   0.0080  \"tst\"\n",
            "\n",
            " BLEU:  0.9346   0.8112   0.6617   0.5366   0.3982   0.2816   0.1720   0.0843   0.0274  \"tst\"\n",
            "\n",
            "# ------------------------------------------------------------------------\n",
            "Cumulative N-gram scoring\n",
            "        1-gram   2-gram   3-gram   4-gram   5-gram   6-gram   7-gram   8-gram   9-gram\n",
            "        ------   ------   ------   ------   ------   ------   ------   ------   ------\n",
            " NIST:  5.0188   6.2478   6.9957   7.4965   7.8212   7.9148   7.9533   7.9724   7.9804  \"tst\"\n",
            "\n",
            " BLEU:  0.9346   0.8707   0.7946   0.7203   0.6398   0.5580   0.4717   0.3803   0.2839  \"tst\"\n",
            "MT evaluation scorer ended on 2024 Jul 7 at 13:44:29\n",
            "\n",
            "Removing temp directory\n",
            "SCORES:\n",
            "==============\n",
            "BLEU: 0.7203\n",
            "NIST: 7.8212\n",
            "METEOR: 0.4801\n",
            "ROUGE_L: 0.7910\n",
            "CIDEr: 2.3039\n",
            "\n"
          ]
        }
      ],
      "source": [
        "!./measure_scores.py example-inputs/devel-conc.txt example-inputs/baseline-output.txt"
      ]
    },
    {
      "cell_type": "markdown",
      "metadata": {
        "id": "0EN-JI6ldxU4"
      },
      "source": [
        "### Résultats avec LoRa"
      ]
    },
    {
      "cell_type": "code",
      "execution_count": 16,
      "metadata": {
        "colab": {
          "base_uri": "https://localhost:8080/"
        },
        "id": "sSE9CSlzd2Zy",
        "outputId": "d4ae21ce-5b34-4a0b-d770-4f4332786781"
      },
      "outputs": [
        {
          "name": "stdout",
          "output_type": "stream",
          "text": [
            "rm: cannot remove 'LoRA': No such file or directory\n",
            "Cloning into 'M2IASD'...\n",
            "remote: Enumerating objects: 6225, done.\u001b[K\n",
            "remote: Counting objects: 100% (1562/1562), done.\u001b[K\n",
            "remote: Compressing objects: 100% (1515/1515), done.\u001b[K\n",
            "remote: Total 6225 (delta 34), reused 1558 (delta 34), pack-reused 4663\u001b[K\n",
            "Receiving objects: 100% (6225/6225), 668.94 MiB | 29.00 MiB/s, done.\n",
            "Resolving deltas: 100% (333/333), done.\n",
            "e2e-metrics  Homework.ipynb  LoRA  sample_data\n"
          ]
        }
      ],
      "source": [
        "%%capture\n",
        "!rm -r LoRA # if we need to git pull : delete then git clone again\n",
        "# !git clone --branch lazlo https://<TOKEN>@github.com/MichelHUANGGit/M2IASD.git #if private\n",
        "!git clone https://github.com/MichelHUANGGit/M2IASD.git\n",
        "!mv M2IASD/* . && rm -r M2IASD\n",
        "!rm -r ComputerVision\n",
        "!mv NLP/* . && rm -r NLP\n",
        "!ls"
      ]
    },
    {
      "cell_type": "code",
      "execution_count": 18,
      "metadata": {
        "colab": {
          "base_uri": "https://localhost:8080/"
        },
        "id": "5yqdRl_Csmfg",
        "outputId": "300f607e-b6f9-4a34-acc8-6bd244c676d0"
      },
      "outputs": [
        {
          "name": "stdout",
          "output_type": "stream",
          "text": [
            "Running MS-COCO evaluator...\n",
            "creating index...\n",
            "index created!\n",
            "Loading and preparing results...     \n",
            "DONE (t=0.01s)\n",
            "creating index...\n",
            "index created!\n",
            "tokenization...\n",
            "PTBTokenizer tokenized 129948 tokens at 219260.01 tokens per second.\n",
            "PTBTokenizer tokenized 138123 tokens at 260438.62 tokens per second.\n",
            "setting up scorers...\n",
            "computing METEOR score...\n",
            "METEOR: 0.370\n",
            "computing Rouge score...\n",
            "ROUGE_L: 0.492\n",
            "computing CIDEr score...\n",
            "CIDEr: 1.740\n",
            "Creating temp directory  /tmp/e2e-eval-3t6k3mwp\n",
            "Running MTEval to compute BLEU & NIST...\n",
            "Use of 'Hyphen' in \\p{} or \\P{} is deprecated because: Supplanted by Line_Break property values; see www.unicode.org/reports/tr14 at /content/e2e-metrics/mteval/mteval-v13a-sig.pl line 993.\n",
            "Use of 'Hyphen' in \\p{} or \\P{} is deprecated because: Supplanted by Line_Break property values; see www.unicode.org/reports/tr14 at /content/e2e-metrics/mteval/mteval-v13a-sig.pl line 993.\n",
            "MT evaluation scorer began on 2024 Jul 7 at 15:44:17\n",
            "command line:  /content/e2e-metrics/mteval/mteval-v13a-sig.pl -r /tmp/e2e-eval-3t6k3mwp/mteval_ref.sgm -s /tmp/e2e-eval-3t6k3mwp/mteval_src.sgm -t /tmp/e2e-eval-3t6k3mwp/mteval_sys.sgm -f /tmp/e2e-eval-3t6k3mwp/mteval_log.txt\n",
            "  Evaluation of any-to-en translation using:\n",
            "    src set \"e2e\" (1 docs, 4693 segs)\n",
            "    ref set \"e2e\" (1 refs)\n",
            "    tst set \"e2e\" (1 systems)\n",
            "\n",
            "NIST score = 4.9110  BLEU score = 0.3072 for system \"tst\"\n",
            "\n",
            "# ------------------------------------------------------------------------\n",
            "\n",
            "Individual N-gram scoring\n",
            "        1-gram   2-gram   3-gram   4-gram   5-gram   6-gram   7-gram   8-gram   9-gram\n",
            "        ------   ------   ------   ------   ------   ------   ------   ------   ------\n",
            " NIST:  3.8828   0.6225   0.2146   0.1147   0.0763   0.0360   0.0187   0.0109   0.0071  \"tst\"\n",
            "\n",
            " BLEU:  0.6548   0.3901   0.2398   0.1455   0.0774   0.0484   0.0327   0.0217   0.0135  \"tst\"\n",
            "\n",
            "# ------------------------------------------------------------------------\n",
            "Cumulative N-gram scoring\n",
            "        1-gram   2-gram   3-gram   4-gram   5-gram   6-gram   7-gram   8-gram   9-gram\n",
            "        ------   ------   ------   ------   ------   ------   ------   ------   ------\n",
            " NIST:  3.8828   4.5053   4.7199   4.8346   4.9110   4.9469   4.9656   4.9766   4.9836  \"tst\"\n",
            "\n",
            " BLEU:  0.6548   0.5054   0.3942   0.3072   0.2332   0.1794   0.1407   0.1113   0.0881  \"tst\"\n",
            "MT evaluation scorer ended on 2024 Jul 7 at 15:44:56\n",
            "\n",
            "Removing temp directory\n",
            "SCORES:\n",
            "==============\n",
            "BLEU: 0.3072\n",
            "NIST: 4.9110\n",
            "METEOR: 0.3698\n",
            "ROUGE_L: 0.4917\n",
            "CIDEr: 1.7399\n",
            "\n"
          ]
        }
      ],
      "source": [
        "!cd e2e-metrics/ && ./measure_scores.py /content/LoRA/outputs/test_tuetscheck_e2e_nlg/references_text.txt /content/LoRA/outputs/test_tuetscheck_e2e_nlg/predictions_text.txt"
      ]
    }
  ],
  "metadata": {
    "colab": {
      "provenance": []
    },
    "kernelspec": {
      "display_name": "Python 3",
      "name": "python3"
    },
    "language_info": {
      "name": "python"
    }
  },
  "nbformat": 4,
  "nbformat_minor": 0
}
